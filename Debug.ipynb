{
 "cells": [
  {
   "cell_type": "code",
   "execution_count": 1,
   "metadata": {},
   "outputs": [],
   "source": [
    "from PIL import Image"
   ]
  },
  {
   "cell_type": "code",
   "execution_count": 3,
   "metadata": {},
   "outputs": [],
   "source": [
    "image = Image.open('data/jpeg/train/ISIC_2513114.jpg')"
   ]
  },
  {
   "cell_type": "code",
   "execution_count": 4,
   "metadata": {},
   "outputs": [
    {
     "data": {
      "text/plain": [
       "(6000, 4000)"
      ]
     },
     "execution_count": 4,
     "metadata": {},
     "output_type": "execute_result"
    }
   ],
   "source": [
    "image.size"
   ]
  },
  {
   "cell_type": "code",
   "execution_count": 5,
   "metadata": {},
   "outputs": [],
   "source": [
    "from torchvision.transforms import ToTensor, Resize\n"
   ]
  },
  {
   "cell_type": "code",
   "execution_count": 7,
   "metadata": {},
   "outputs": [],
   "source": [
    "to_tensor = ToTensor()\n",
    "resize_func = Resize(size = (512,512))"
   ]
  },
  {
   "cell_type": "code",
   "execution_count": 9,
   "metadata": {},
   "outputs": [],
   "source": [
    "import torch"
   ]
  },
  {
   "cell_type": "code",
   "execution_count": null,
   "metadata": {},
   "outputs": [],
   "source": [
    "torch.save()"
   ]
  },
  {
   "cell_type": "code",
   "execution_count": 8,
   "metadata": {},
   "outputs": [
    {
     "data": {
      "text/plain": [
       "tensor([[[0.3765, 0.3804, 0.3843,  ..., 0.5843, 0.6000, 0.6118],\n",
       "         [0.3922, 0.3882, 0.3843,  ..., 0.5922, 0.6039, 0.6078],\n",
       "         [0.3882, 0.3843, 0.3804,  ..., 0.5961, 0.6118, 0.6118],\n",
       "         ...,\n",
       "         [0.2118, 0.2157, 0.2353,  ..., 0.4784, 0.4824, 0.4824],\n",
       "         [0.2118, 0.2157, 0.2314,  ..., 0.4745, 0.4745, 0.4784],\n",
       "         [0.2118, 0.2118, 0.2314,  ..., 0.4667, 0.4745, 0.4824]],\n",
       "\n",
       "        [[0.1922, 0.1882, 0.1843,  ..., 0.3725, 0.4000, 0.4078],\n",
       "         [0.1922, 0.1922, 0.1882,  ..., 0.3882, 0.4157, 0.4157],\n",
       "         [0.1961, 0.1961, 0.1961,  ..., 0.3922, 0.4118, 0.4039],\n",
       "         ...,\n",
       "         [0.0980, 0.0980, 0.1020,  ..., 0.3059, 0.3098, 0.3137],\n",
       "         [0.0902, 0.0941, 0.0980,  ..., 0.2980, 0.3098, 0.3098],\n",
       "         [0.0902, 0.0902, 0.1020,  ..., 0.2784, 0.3059, 0.3098]],\n",
       "\n",
       "        [[0.2235, 0.2235, 0.2196,  ..., 0.3804, 0.4157, 0.4275],\n",
       "         [0.2275, 0.2275, 0.2235,  ..., 0.4039, 0.4392, 0.4431],\n",
       "         [0.2314, 0.2314, 0.2235,  ..., 0.4118, 0.4431, 0.4431],\n",
       "         ...,\n",
       "         [0.0745, 0.0706, 0.0824,  ..., 0.3529, 0.3569, 0.3647],\n",
       "         [0.0706, 0.0667, 0.0784,  ..., 0.3608, 0.3647, 0.3686],\n",
       "         [0.0706, 0.0667, 0.0784,  ..., 0.3412, 0.3608, 0.3686]]])"
      ]
     },
     "execution_count": 8,
     "metadata": {},
     "output_type": "execute_result"
    }
   ],
   "source": [
    "to_tensor(resize_func(image))"
   ]
  },
  {
   "cell_type": "code",
   "execution_count": null,
   "metadata": {},
   "outputs": [],
   "source": []
  }
 ],
 "metadata": {
  "kernelspec": {
   "display_name": "Python 3",
   "language": "python",
   "name": "python3"
  },
  "language_info": {
   "codemirror_mode": {
    "name": "ipython",
    "version": 3
   },
   "file_extension": ".py",
   "mimetype": "text/x-python",
   "name": "python",
   "nbconvert_exporter": "python",
   "pygments_lexer": "ipython3",
   "version": "3.7.6"
  }
 },
 "nbformat": 4,
 "nbformat_minor": 4
}
